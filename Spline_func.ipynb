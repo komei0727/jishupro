{
 "cells": [
  {
   "cell_type": "code",
   "execution_count": 1,
   "metadata": {},
   "outputs": [],
   "source": [
    "import math\n",
    "import numpy as np"
   ]
  },
  {
   "cell_type": "code",
   "execution_count": 2,
   "metadata": {},
   "outputs": [],
   "source": [
    "class Spline:\n",
    "    def __init__(self, x, y):\n",
    "        self.x = x\n",
    "        self.y = y\n",
    "        self.a, self.b, self.c, self.d, self.h = [], [], [], [], []\n",
    "        self.a = [iy for iy in y]\n",
    "        \n",
    "        self.h = [(x[i+1]-x[i]) for i in range(len(x)-1)]\n",
    "        \n",
    "        A = np.array([[self.h[1], 2*(self.h[0]+self.h[1])], [2*(self.h[1]+self.h[2]), self.h[1]]])\n",
    "        b = np.array([[3*(self.a[2]-self.a[1])/self.h[1] - 3*(self.a[1]-self.a[0])/self.h[0], 3*(self.a[3]-self.a[2])/self.h[2] - 3*(self.a[2]-self.a[1])/self.h[1]]])\n",
    "        c = np.dot(np.linalg.inv(A), b.T)\n",
    "        \n",
    "        self.c = [0, c[1][0], c[0][0], 0]\n",
    "        \n",
    "        self.b = [((self.a[i+1]-self.a[i])/self.h[i] - self.h[i]*(self.c[i+1]+self.c[i]*2)/3) for i in range(len(x)-1)]\n",
    "        self.d = [((self.c[i+1]-self.c[i])/self.h[i]/3) for i in range(len(x)-1)]\n",
    "        \n",
    "    def calc(self):\n",
    "        p = []\n",
    "        q = []\n",
    "        for i in range(3):\n",
    "            r = np.sqrt((self.x[i+1]-self.x[i])**2 + (self.y[i+1]-self.y[i])**2)\n",
    "            dx = np.linspace(self.x[i], self.x[i+1], int(r*10))\n",
    "            dy = self.a[i] + self.b[i]*(dx-self.x[i]) + self.c[i]*(dx-self.x[i])**2 + self.d[i]*(dx-self.x[i])**3\n",
    "            if i == 0:\n",
    "                for j in range(len(dx)):\n",
    "                    p.append(dx[j])\n",
    "                    q.append(dy[j])\n",
    "            else:\n",
    "                for j in range(len(dx[1:])):\n",
    "                    p.append(dx[j+1])\n",
    "                    q.append(dy[j+1])\n",
    "        return p, q"
   ]
  },
  {
   "cell_type": "code",
   "execution_count": 3,
   "metadata": {},
   "outputs": [],
   "source": [
    "x=[0,1,2,3]\n",
    "y=[2.7,4,5,6.5]"
   ]
  },
  {
   "cell_type": "code",
   "execution_count": 4,
   "metadata": {},
   "outputs": [],
   "source": [
    "spline = Spline(y,x)"
   ]
  },
  {
   "cell_type": "code",
   "execution_count": 5,
   "metadata": {},
   "outputs": [],
   "source": [
    "Y, X = spline.calc()"
   ]
  },
  {
   "cell_type": "code",
   "execution_count": 6,
   "metadata": {},
   "outputs": [
    {
     "data": {
      "text/plain": [
       "[0.0,\n",
       " 0.059084354657687854,\n",
       " 0.11837180695847364,\n",
       " 0.17806545454545442,\n",
       " 0.23836839506172844,\n",
       " 0.2994837261503927,\n",
       " 0.3616145454545455,\n",
       " 0.42496395061728387,\n",
       " 0.48973503928170603,\n",
       " 0.556130909090909,\n",
       " 0.6243546576879911,\n",
       " 0.6946093827160493,\n",
       " 0.767098181818182,\n",
       " 0.842024152637486,\n",
       " 0.9195903928170592,\n",
       " 1.0,\n",
       " 1.0738241276247644,\n",
       " 1.1496446202864048,\n",
       " 1.2270578761247855,\n",
       " 1.305660293279774,\n",
       " 1.385048269891238,\n",
       " 1.4648182040990416,\n",
       " 1.5445664940430528,\n",
       " 1.623889537863138,\n",
       " 1.7023837336991643,\n",
       " 1.7796454796909962,\n",
       " 1.8552711739785028,\n",
       " 1.9288572147015481,\n",
       " 2.0,\n",
       " 2.078213217679938,\n",
       " 2.1529010374929367,\n",
       " 2.2242837968056772,\n",
       " 2.2925818329848453,\n",
       " 2.358015483397124,\n",
       " 2.4208050854091967,\n",
       " 2.481170976387748,\n",
       " 2.539333493699462,\n",
       " 2.5955129747110206,\n",
       " 2.64992975678911,\n",
       " 2.7028041773004117,\n",
       " 2.754356573611611,\n",
       " 2.8048072830893918,\n",
       " 2.854376643100437,\n",
       " 2.9032849910114313,\n",
       " 2.9517526641890575,\n",
       " 3.0]"
      ]
     },
     "execution_count": 6,
     "metadata": {},
     "output_type": "execute_result"
    }
   ],
   "source": [
    "X"
   ]
  },
  {
   "cell_type": "code",
   "execution_count": 7,
   "metadata": {},
   "outputs": [
    {
     "data": {
      "text/plain": [
       "[2.7,\n",
       " 2.7866666666666666,\n",
       " 2.8733333333333335,\n",
       " 2.96,\n",
       " 3.046666666666667,\n",
       " 3.1333333333333333,\n",
       " 3.22,\n",
       " 3.3066666666666666,\n",
       " 3.3933333333333335,\n",
       " 3.48,\n",
       " 3.566666666666667,\n",
       " 3.6533333333333333,\n",
       " 3.74,\n",
       " 3.8266666666666667,\n",
       " 3.913333333333333,\n",
       " 4.0,\n",
       " 4.076923076923077,\n",
       " 4.153846153846154,\n",
       " 4.230769230769231,\n",
       " 4.3076923076923075,\n",
       " 4.384615384615385,\n",
       " 4.461538461538462,\n",
       " 4.538461538461538,\n",
       " 4.615384615384615,\n",
       " 4.6923076923076925,\n",
       " 4.769230769230769,\n",
       " 4.846153846153847,\n",
       " 4.923076923076923,\n",
       " 5.0,\n",
       " 5.088235294117647,\n",
       " 5.176470588235294,\n",
       " 5.264705882352941,\n",
       " 5.352941176470588,\n",
       " 5.4411764705882355,\n",
       " 5.529411764705882,\n",
       " 5.617647058823529,\n",
       " 5.705882352941177,\n",
       " 5.794117647058823,\n",
       " 5.882352941176471,\n",
       " 5.970588235294118,\n",
       " 6.0588235294117645,\n",
       " 6.147058823529412,\n",
       " 6.235294117647059,\n",
       " 6.3235294117647065,\n",
       " 6.411764705882353,\n",
       " 6.5]"
      ]
     },
     "execution_count": 7,
     "metadata": {},
     "output_type": "execute_result"
    }
   ],
   "source": [
    "Y"
   ]
  },
  {
   "cell_type": "code",
   "execution_count": 9,
   "metadata": {},
   "outputs": [
    {
     "data": {
      "image/png": "[encoded data removed]",
      "text/plain": [
       "<Figure size 432x288 with 1 Axes>"
      ]
     },
     "metadata": {
      "needs_background": "light"
     },
     "output_type": "display_data"
    }
   ],
   "source": [
    "import matplotlib.pyplot as plt\n",
    "\n",
    "plt.plot(X,Y,\"xb\")\n",
    "plt.plot(X,Y,\"-r\")\n",
    "plt.grid(True)\n",
    "plt.axis(\"equal\")\n",
    "plt.show()"
   ]
  },
  {
   "cell_type": "code",
   "execution_count": null,
   "metadata": {},
   "outputs": [],
   "source": []
  }
 ],
 "metadata": {
  "kernelspec": {
   "display_name": "Python 3",
   "language": "python",
   "name": "python3"
  },
  "language_info": {
   "codemirror_mode": {
    "name": "ipython",
    "version": 3
   },
   "file_extension": ".py",
   "mimetype": "text/x-python",
   "name": "python",
   "nbconvert_exporter": "python",
   "pygments_lexer": "ipython3",
   "version": "3.7.3"
  }
 },
 "nbformat": 4,
 "nbformat_minor": 2
}
